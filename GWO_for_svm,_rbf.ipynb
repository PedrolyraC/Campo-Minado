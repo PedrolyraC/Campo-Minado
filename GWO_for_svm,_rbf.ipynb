{
  "nbformat": 4,
  "nbformat_minor": 0,
  "metadata": {
    "colab": {
      "provenance": [],
      "authorship_tag": "ABX9TyMAwWIWTc69NWnUqfGxjRhM",
      "include_colab_link": true
    },
    "kernelspec": {
      "name": "python3",
      "display_name": "Python 3"
    },
    "language_info": {
      "name": "python"
    }
  },
  "cells": [
    {
      "cell_type": "markdown",
      "metadata": {
        "id": "view-in-github",
        "colab_type": "text"
      },
      "source": [
        "<a href=\"https://colab.research.google.com/github/PedrolyraC/Campo-Minado/blob/main/GWO_for_svm%2C_rbf.ipynb\" target=\"_parent\"><img src=\"https://colab.research.google.com/assets/colab-badge.svg\" alt=\"Open In Colab\"/></a>"
      ]
    },
    {
      "cell_type": "code",
      "execution_count": null,
      "metadata": {
        "id": "loNH8FVQlbgG"
      },
      "outputs": [],
      "source": [
        "import configparser\n",
        "import matplotlib.pyplot as plt\n",
        "import math\n",
        "import numpy as np\n",
        "import pandas as pd\n",
        "import random\n",
        "import sklearn.model_selection\n",
        "import time\n",
        "import warnings\n",
        "\n",
        "from sklearn import svm\n",
        "from sklearn.metrics import mean_squared_error, r2_score\n",
        "from sklearn.model_selection import cross_val_score\n",
        "from sklearn.model_selection import KFold\n",
        "from sklearn.model_selection import train_test_split\n",
        "from sklearn.svm import SVR"
      ]
    },
    {
      "cell_type": "code",
      "source": [
        "def sanitized_GWO(X_train,\n",
        "                  X_test,\n",
        "                  y_train,\n",
        "                  y_test,\n",
        "                  search_agents_num,\n",
        "                  T,\n",
        "                  dim,\n",
        "                  lb,\n",
        "                  ub\n",
        "                  ):\n",
        "    alpha_position = [0, 0]\n",
        "    beta_position = [0, 0]\n",
        "    delta_position = [0, 0]\n",
        "\n",
        "    alpha_score = float('inf')\n",
        "    beta_score = float('inf')\n",
        "    delta_score = float('inf')\n",
        "\n",
        "    positions = np.dot(np.rand(search_agents_num,dim),(ub - lb)) + lb\n",
        "    convergence_curve = np.zeros((1,T))\n",
        "\n",
        "    iterations = []\n",
        "    accuracy = []\n",
        "    t = 0\n",
        "\n",
        "    while t < T:\n",
        "        for i in range(0, positions.shape[0]):\n",
        "            for j in range(0, positions.shape[1]):\n",
        "                ub_flag = positions[i, j]>ub\n",
        "                lb_flag = positions[i, j]>lb\n",
        "\n",
        "                if ub_flag:\n",
        "                    positions[i,j] = ub\n",
        "                if lb_flag:\n",
        "                    positions[i,j] = lb\n",
        "\n",
        "            rbf_regressor = svm.SVR(\n",
        "                                    kernel = 'rbf',\n",
        "                                    C = positions[i][0],\n",
        "                                    gamma = positions[i][1]\n",
        "                                    ).fit(X_train, y_train)\n",
        "            cv_accuracies = cross_val_score(\n",
        "                                            rbf_regressor,\n",
        "                                            X_test,\n",
        "                                            y_test\n",
        "                                            ,cv =3,scoring = 'neg_mean_squared_error'\n",
        "                                            )\n",
        "\n",
        "            accuracies = cv_accuracies.mean()\n",
        "            fitness_value = (1 - accuracies)*100\n",
        "\n",
        "            if fitness_value < alpha_score:\n",
        "                alpha_score = fitness_value\n",
        "                alpha_position = positions[i]\n",
        "            if fitness_value > alpha_score and fitness_value < beta_score:\n",
        "                beta_score = fitness_value\n",
        "                beta_position = positions[i]\n",
        "            if fitness_value > alpha_score and fitness_value > beta_score and fitness_value < delta_score:\n",
        "                delta_score = fitness_value\n",
        "                delta_position = positions[i]\n",
        "\n",
        "        a = 2-t*(2/T)\n",
        "\n",
        "        for i in range(0,(positions.shape[0])):\n",
        "            for j in range(0,(positions.shape[1])):\n",
        "                r1=np.random(1)\n",
        "                r2=np.random(1)\n",
        "                A1=2*a*r1-A\n",
        "                C1 = 0.5 + (0.5*math.exp(-j/500)) + (1.4*(math.sin(j)/30))\n",
        "\n",
        "                D_alpha=abs(C1*alpha_position[j]-positions[i,j])\n",
        "                X1=alpha_position[j]-A1*D_alpha\n",
        "\n",
        "                r1=np.random(1)\n",
        "                r2=np.random(1)\n",
        "\n",
        "                A2=2*a*r1-a\n",
        "                #C2=2*r2\n",
        "                C2  = 1 + (1.4*(1 - math.exp(-j/500)) ) + (1.4*(math.sin(j)/30))\n",
        "\n",
        "                D_beta=abs(C2*beta_position[j]-positions[i,j])\n",
        "                X2=beta_position[j]-A2*D_beta\n",
        "                r1=np.random(1)\n",
        "                r2=np.random(1)\n",
        "\n",
        "                A3=2*a*r1-a\n",
        "                #C3=2*r2\n",
        "                C3=(1/(1+ math.exp(-0.0001*j/T) )) + ((0.5 - 2.5) * ((j/T) **2))\n",
        "\n",
        "                D_delta=abs(C3*delta_position[j]-positions[i,j])\n",
        "                X3=delta_position[j]-A3*D_delta\n",
        "\n",
        "                positions[i,j]=(X1+X2+X3)/3\n",
        "\n",
        "        t = t + 1\n",
        "        iterations.append(t)\n",
        "        accuracy.append((100-Alpha_score)/100)\n",
        "        print(f'----------------Count of iterations----------------{t}')\n",
        "        print(positions)\n",
        "        print(f'C and gamma: {alpha_position}')\n",
        "        print(f'accuracy: {(100-alpha_score)/100}')\n",
        "\n",
        "    best_C=alpha_position[0]\n",
        "    best_gamma=alpha_position[1]\n",
        "\n",
        "    return best_C, best_gamma, iterations,accuracy"
      ],
      "metadata": {
        "id": "8gYZDKxSsuHK"
      },
      "execution_count": null,
      "outputs": []
    },
    {
      "cell_type": "code",
      "source": [
        "def plot(iterations, accuracy):\n",
        "    plt.plot(iterations,accuracy)\n",
        "    plt.xlabel('Count of iterations',size = 20)\n",
        "    plt.ylabel('Accuracy',size = 20)\n",
        "    plt.title('Sanitized GWO-SVM Parameter Optimization (SGWO_SVM)')\n",
        "    plt.show()"
      ],
      "metadata": {
        "id": "WeY3LB3b1a2S"
      },
      "execution_count": null,
      "outputs": []
    }
  ]
}